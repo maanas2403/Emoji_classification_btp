{
 "cells": [
  {
   "cell_type": "code",
   "execution_count": 2,
   "id": "a8658235-4660-4e01-9908-77278490e31d",
   "metadata": {},
   "outputs": [],
   "source": [
    "import numpy as np\n",
    "import pandas as pd\n",
    "import matplotlib.pyplot as plt\n",
    "import seaborn as sns\n",
    "\n",
    "import tensorflow as tf\n",
    "import tensorflow.keras"
   ]
  },
  {
   "cell_type": "code",
   "execution_count": 3,
   "id": "39087fd3-9c5b-4200-8599-90ab11ffca49",
   "metadata": {},
   "outputs": [],
   "source": [
    "df = pd.read_csv(\"ml_df.csv\")\n",
    "df.dropna(inplace=True)"
   ]
  },
  {
   "cell_type": "code",
   "execution_count": 4,
   "id": "824ca03b-9ced-46da-9985-a0981c37a3d0",
   "metadata": {},
   "outputs": [
    {
     "data": {
      "text/html": [
       "<div>\n",
       "<style scoped>\n",
       "    .dataframe tbody tr th:only-of-type {\n",
       "        vertical-align: middle;\n",
       "    }\n",
       "\n",
       "    .dataframe tbody tr th {\n",
       "        vertical-align: top;\n",
       "    }\n",
       "\n",
       "    .dataframe thead th {\n",
       "        text-align: right;\n",
       "    }\n",
       "</style>\n",
       "<table border=\"1\" class=\"dataframe\">\n",
       "  <thead>\n",
       "    <tr style=\"text-align: right;\">\n",
       "      <th></th>\n",
       "      <th>translated_text_no_emoji</th>\n",
       "      <th>emoji_labels</th>\n",
       "    </tr>\n",
       "  </thead>\n",
       "  <tbody>\n",
       "    <tr>\n",
       "      <th>0</th>\n",
       "      <td>After a long time there was a breath of relief</td>\n",
       "      <td>[0]</td>\n",
       "    </tr>\n",
       "    <tr>\n",
       "      <th>1</th>\n",
       "      <td>I was able to reduce smoking!</td>\n",
       "      <td>[0]</td>\n",
       "    </tr>\n",
       "    <tr>\n",
       "      <th>2</th>\n",
       "      <td>Good morning friends. . . . . . Have a nice day</td>\n",
       "      <td>[]</td>\n",
       "    </tr>\n",
       "    <tr>\n",
       "      <th>3</th>\n",
       "      <td>Fun all night online. . .</td>\n",
       "      <td>[0]</td>\n",
       "    </tr>\n",
       "    <tr>\n",
       "      <th>4</th>\n",
       "      <td>Road to Sylhet Stadium…   Really how beautiful...</td>\n",
       "      <td>[0]</td>\n",
       "    </tr>\n",
       "    <tr>\n",
       "      <th>5</th>\n",
       "      <td>A cold wind seems to be blowing. All the beddi...</td>\n",
       "      <td>[0, 0]</td>\n",
       "    </tr>\n",
       "    <tr>\n",
       "      <th>6</th>\n",
       "      <td>Open GL Error problem solving!  http/fb.me/358...</td>\n",
       "      <td>[0, 3]</td>\n",
       "    </tr>\n",
       "    <tr>\n",
       "      <th>7</th>\n",
       "      <td>The sun does not know how beautiful the moon i...</td>\n",
       "      <td>[1]</td>\n",
       "    </tr>\n",
       "    <tr>\n",
       "      <th>8</th>\n",
       "      <td>Today is a happy day after so much injustice a...</td>\n",
       "      <td>[0]</td>\n",
       "    </tr>\n",
       "    <tr>\n",
       "      <th>9</th>\n",
       "      <td>ICT (Information and Communication Technology)...</td>\n",
       "      <td>[0, 0, 0]</td>\n",
       "    </tr>\n",
       "  </tbody>\n",
       "</table>\n",
       "</div>"
      ],
      "text/plain": [
       "                            translated_text_no_emoji emoji_labels\n",
       "0    After a long time there was a breath of relief           [0]\n",
       "1                     I was able to reduce smoking!           [0]\n",
       "2    Good morning friends. . . . . . Have a nice day           []\n",
       "3                       Fun all night online. . .             [0]\n",
       "4  Road to Sylhet Stadium…   Really how beautiful...          [0]\n",
       "5  A cold wind seems to be blowing. All the beddi...       [0, 0]\n",
       "6  Open GL Error problem solving!  http/fb.me/358...       [0, 3]\n",
       "7  The sun does not know how beautiful the moon i...          [1]\n",
       "8  Today is a happy day after so much injustice a...          [0]\n",
       "9  ICT (Information and Communication Technology)...    [0, 0, 0]"
      ]
     },
     "execution_count": 4,
     "metadata": {},
     "output_type": "execute_result"
    }
   ],
   "source": [
    "df.head(10)"
   ]
  },
  {
   "cell_type": "code",
   "execution_count": 8,
   "id": "84c310ab-ff0e-449d-83e7-93b0d055f605",
   "metadata": {},
   "outputs": [],
   "source": [
    "df1=df[df['emoji_labels'].str.len() > 2]"
   ]
  },
  {
   "cell_type": "code",
   "execution_count": 9,
   "id": "bc38e906-2d67-4b12-aceb-f002ecd585f9",
   "metadata": {},
   "outputs": [],
   "source": [
    "def process_emoji_labels(str):\n",
    "    if(len(str)>2):\n",
    "        if(str[2]==\",\" or str[2]==\"]\"):\n",
    "            return int(str[1])\n",
    "        else:\n",
    "            return int(str[1:3])"
   ]
  },
  {
   "cell_type": "code",
   "execution_count": 10,
   "id": "773e7156-edf8-4ab6-99e8-2b8d07a9dbd7",
   "metadata": {},
   "outputs": [
    {
     "name": "stderr",
     "output_type": "stream",
     "text": [
      "C:\\Users\\Lenovo\\AppData\\Local\\Temp\\ipykernel_9920\\462306363.py:1: SettingWithCopyWarning: \n",
      "A value is trying to be set on a copy of a slice from a DataFrame.\n",
      "Try using .loc[row_indexer,col_indexer] = value instead\n",
      "\n",
      "See the caveats in the documentation: https://pandas.pydata.org/pandas-docs/stable/user_guide/indexing.html#returning-a-view-versus-a-copy\n",
      "  df1['emoji_label_2']=df['emoji_labels'].apply(process_emoji_labels)\n"
     ]
    }
   ],
   "source": [
    "df1['emoji_label_2']=df['emoji_labels'].apply(process_emoji_labels)"
   ]
  },
  {
   "cell_type": "code",
   "execution_count": 14,
   "id": "e8ff9426-6393-4e7e-a17c-c26ee07fc15b",
   "metadata": {},
   "outputs": [
    {
     "name": "stderr",
     "output_type": "stream",
     "text": [
      "C:\\Users\\Lenovo\\AppData\\Local\\Temp\\ipykernel_9920\\3644619827.py:1: SettingWithCopyWarning: \n",
      "A value is trying to be set on a copy of a slice from a DataFrame.\n",
      "Try using .loc[row_indexer,col_indexer] = value instead\n",
      "\n",
      "See the caveats in the documentation: https://pandas.pydata.org/pandas-docs/stable/user_guide/indexing.html#returning-a-view-versus-a-copy\n",
      "  df1['emoji_label_2'] = df1['emoji_label_2'].astype(int)\n"
     ]
    }
   ],
   "source": [
    "df1['emoji_label_2'] = df1['emoji_label_2'].astype(int)"
   ]
  },
  {
   "cell_type": "code",
   "execution_count": 15,
   "id": "2510b876-b969-404b-9e19-a9c17f2fdb82",
   "metadata": {},
   "outputs": [
    {
     "name": "stderr",
     "output_type": "stream",
     "text": [
      "C:\\Users\\Lenovo\\AppData\\Local\\Temp\\ipykernel_9920\\63869934.py:1: SettingWithCopyWarning: \n",
      "A value is trying to be set on a copy of a slice from a DataFrame\n",
      "\n",
      "See the caveats in the documentation: https://pandas.pydata.org/pandas-docs/stable/user_guide/indexing.html#returning-a-view-versus-a-copy\n",
      "  df1.drop('emoji_labels',axis=1,inplace=True)\n"
     ]
    }
   ],
   "source": [
    "df1.drop('emoji_labels',axis=1,inplace=True)"
   ]
  },
  {
   "cell_type": "code",
   "execution_count": 16,
   "id": "6bdbe822-4d63-4769-93ca-1d8fd289d7a5",
   "metadata": {},
   "outputs": [],
   "source": [
    "df1.reset_index(drop=True, inplace=True)"
   ]
  },
  {
   "cell_type": "code",
   "execution_count": 17,
   "id": "dc7d846b-375c-4810-abd6-be3fb8203bb7",
   "metadata": {},
   "outputs": [
    {
     "data": {
      "text/html": [
       "<div>\n",
       "<style scoped>\n",
       "    .dataframe tbody tr th:only-of-type {\n",
       "        vertical-align: middle;\n",
       "    }\n",
       "\n",
       "    .dataframe tbody tr th {\n",
       "        vertical-align: top;\n",
       "    }\n",
       "\n",
       "    .dataframe thead th {\n",
       "        text-align: right;\n",
       "    }\n",
       "</style>\n",
       "<table border=\"1\" class=\"dataframe\">\n",
       "  <thead>\n",
       "    <tr style=\"text-align: right;\">\n",
       "      <th></th>\n",
       "      <th>translated_text_no_emoji</th>\n",
       "      <th>emoji_label_2</th>\n",
       "    </tr>\n",
       "  </thead>\n",
       "  <tbody>\n",
       "    <tr>\n",
       "      <th>0</th>\n",
       "      <td>After a long time there was a breath of relief</td>\n",
       "      <td>0</td>\n",
       "    </tr>\n",
       "    <tr>\n",
       "      <th>1</th>\n",
       "      <td>I was able to reduce smoking!</td>\n",
       "      <td>0</td>\n",
       "    </tr>\n",
       "    <tr>\n",
       "      <th>2</th>\n",
       "      <td>Fun all night online. . .</td>\n",
       "      <td>0</td>\n",
       "    </tr>\n",
       "    <tr>\n",
       "      <th>3</th>\n",
       "      <td>Road to Sylhet Stadium…   Really how beautiful...</td>\n",
       "      <td>0</td>\n",
       "    </tr>\n",
       "    <tr>\n",
       "      <th>4</th>\n",
       "      <td>A cold wind seems to be blowing. All the beddi...</td>\n",
       "      <td>0</td>\n",
       "    </tr>\n",
       "    <tr>\n",
       "      <th>...</th>\n",
       "      <td>...</td>\n",
       "      <td>...</td>\n",
       "    </tr>\n",
       "    <tr>\n",
       "      <th>767</th>\n",
       "      <td>Laughing,  @sheikhriad1 Vs @dk_sadia</td>\n",
       "      <td>0</td>\n",
       "    </tr>\n",
       "    <tr>\n",
       "      <th>768</th>\n",
       "      <td>Haha, lol hope Atit keeps up the series  http/...</td>\n",
       "      <td>0</td>\n",
       "    </tr>\n",
       "    <tr>\n",
       "      <th>769</th>\n",
       "      <td>Hahaha..... What do the bulls say... 60 hours ...</td>\n",
       "      <td>0</td>\n",
       "    </tr>\n",
       "    <tr>\n",
       "      <th>770</th>\n",
       "      <td>As many incidents of vandalism happen during t...</td>\n",
       "      <td>2</td>\n",
       "    </tr>\n",
       "    <tr>\n",
       "      <th>771</th>\n",
       "      <td>Hooray!!! It's 12 o'clock! It's 12 o'clock! He...</td>\n",
       "      <td>0</td>\n",
       "    </tr>\n",
       "  </tbody>\n",
       "</table>\n",
       "<p>772 rows × 2 columns</p>\n",
       "</div>"
      ],
      "text/plain": [
       "                              translated_text_no_emoji  emoji_label_2\n",
       "0      After a long time there was a breath of relief               0\n",
       "1                       I was able to reduce smoking!               0\n",
       "2                         Fun all night online. . .                 0\n",
       "3    Road to Sylhet Stadium…   Really how beautiful...              0\n",
       "4    A cold wind seems to be blowing. All the beddi...              0\n",
       "..                                                 ...            ...\n",
       "767               Laughing,  @sheikhriad1 Vs @dk_sadia              0\n",
       "768  Haha, lol hope Atit keeps up the series  http/...              0\n",
       "769  Hahaha..... What do the bulls say... 60 hours ...              0\n",
       "770  As many incidents of vandalism happen during t...              2\n",
       "771  Hooray!!! It's 12 o'clock! It's 12 o'clock! He...              0\n",
       "\n",
       "[772 rows x 2 columns]"
      ]
     },
     "execution_count": 17,
     "metadata": {},
     "output_type": "execute_result"
    }
   ],
   "source": [
    "df1"
   ]
  },
  {
   "cell_type": "code",
   "execution_count": 19,
   "id": "0d07c4a7-81e4-4670-ab5a-ccc592cebb56",
   "metadata": {},
   "outputs": [],
   "source": [
    "X = df1[\"translated_text_no_emoji\"].values\n",
    "y = df1[\"emoji_label_2\"].values"
   ]
  },
  {
   "cell_type": "code",
   "execution_count": 21,
   "id": "05b6df34-8940-4a6c-8d04-388f398fc972",
   "metadata": {},
   "outputs": [],
   "source": [
    "from imblearn.over_sampling import RandomOverSampler\n",
    "\n",
    "os = RandomOverSampler()\n",
    "X = X.reshape(-1,1)\n",
    "X, y = os.fit_resample(X, y)"
   ]
  },
  {
   "cell_type": "code",
   "execution_count": 22,
   "id": "5d788691-8b1a-468c-b69d-e495cf9f0ccf",
   "metadata": {},
   "outputs": [
    {
     "data": {
      "text/plain": [
       "(3104,)"
      ]
     },
     "execution_count": 22,
     "metadata": {},
     "output_type": "execute_result"
    }
   ],
   "source": [
    "X = X.reshape(-1,)\n",
    "X.shape"
   ]
  },
  {
   "cell_type": "code",
   "execution_count": 41,
   "id": "c443f66f-87c1-4614-b6e5-d45b0f9a8f2e",
   "metadata": {},
   "outputs": [
    {
     "data": {
      "text/plain": [
       "(3104,)"
      ]
     },
     "execution_count": 41,
     "metadata": {},
     "output_type": "execute_result"
    }
   ],
   "source": [
    "y.shape"
   ]
  },
  {
   "cell_type": "code",
   "execution_count": 27,
   "id": "a9887be2-b95d-4e8d-908d-20c08f239545",
   "metadata": {},
   "outputs": [],
   "source": [
    "from tensorflow.keras.preprocessing.text import Tokenizer\n",
    "\n",
    "tokenizer = Tokenizer(num_words=80000)\n",
    "tokenizer.fit_on_texts(X)"
   ]
  },
  {
   "cell_type": "code",
   "execution_count": 28,
   "id": "18dc9ab8-b136-4103-a0a5-80f7ae109ed2",
   "metadata": {},
   "outputs": [
    {
     "name": "stdout",
     "output_type": "stream",
     "text": [
      "Text \n",
      " ['After a long time there was a breath of relief '\n",
      " 'I was able to reduce smoking! ' 'Fun all night online. . .   '\n",
      " 'Road to Sylhet Stadium…   Really how beautiful our Sylhet!!'\n",
      " 'A cold wind seems to be blowing. All the bedding is cold. Extreme environment for sleeping. Come to sleep  Good night '\n",
      " 'Open GL Error problem solving!  http/fb.me/358jcI9zt'\n",
      " 'The sun does not know how beautiful the moon is, the night does not know how beautiful the day is. Darkness does not know how beautiful the light is. But, I know how beautiful you are!! #SRK_JAN '\n",
      " 'Today is a happy day after so much injustice and exploitation. Definitely worth enjoying '\n",
      " 'ICT (Information and Communication Technology) Paira considers herself an engineer Ah what joy inside the mind 3  '\n",
      " 'Moti has broken again  Today is Eid, joy in the house of Madinah! | Dainik Motikontho http/motikontho.wordpress.com/2013/09/17/kader/\\xa0…'] \n",
      "\n",
      "Sequences\n"
     ]
    },
    {
     "data": {
      "text/plain": [
       "[[144, 4, 306, 118, 111, 93, 4, 1504, 21, 1505],\n",
       " [5, 93, 810, 3, 811, 1506],\n",
       " [125, 35, 18, 609],\n",
       " [924, 3, 1095, 1507, 247, 81, 88, 113, 1095],\n",
       " [4,\n",
       "  200,\n",
       "  409,\n",
       "  277,\n",
       "  3,\n",
       "  89,\n",
       "  1508,\n",
       "  35,\n",
       "  2,\n",
       "  1509,\n",
       "  10,\n",
       "  200,\n",
       "  812,\n",
       "  925,\n",
       "  74,\n",
       "  926,\n",
       "  145,\n",
       "  3,\n",
       "  79,\n",
       "  12,\n",
       "  18],\n",
       " [533, 728, 1510, 534, 1096, 7, 9, 8, 1511],\n",
       " [2,\n",
       "  102,\n",
       "  94,\n",
       "  68,\n",
       "  76,\n",
       "  81,\n",
       "  88,\n",
       "  2,\n",
       "  210,\n",
       "  10,\n",
       "  2,\n",
       "  18,\n",
       "  94,\n",
       "  68,\n",
       "  76,\n",
       "  81,\n",
       "  88,\n",
       "  2,\n",
       "  73,\n",
       "  10,\n",
       "  248,\n",
       "  94,\n",
       "  68,\n",
       "  76,\n",
       "  81,\n",
       "  88,\n",
       "  2,\n",
       "  98,\n",
       "  10,\n",
       "  34,\n",
       "  5,\n",
       "  76,\n",
       "  81,\n",
       "  88,\n",
       "  6,\n",
       "  84,\n",
       "  141,\n",
       "  142],\n",
       " [82, 10, 4, 32, 73, 144, 91, 201, 1512, 15, 1513, 1097, 1514, 927],\n",
       " [1515,\n",
       "  1516,\n",
       "  15,\n",
       "  1517,\n",
       "  1098,\n",
       "  1518,\n",
       "  1519,\n",
       "  1520,\n",
       "  319,\n",
       "  1521,\n",
       "  1099,\n",
       "  16,\n",
       "  286,\n",
       "  1100,\n",
       "  2,\n",
       "  381,\n",
       "  331],\n",
       " [1522,\n",
       "  109,\n",
       "  928,\n",
       "  75,\n",
       "  82,\n",
       "  10,\n",
       "  13,\n",
       "  286,\n",
       "  33,\n",
       "  2,\n",
       "  223,\n",
       "  21,\n",
       "  1523,\n",
       "  1524,\n",
       "  1101,\n",
       "  7,\n",
       "  1101,\n",
       "  1525,\n",
       "  104,\n",
       "  469,\n",
       "  1526,\n",
       "  1102,\n",
       "  929,\n",
       "  258]]"
      ]
     },
     "execution_count": 28,
     "metadata": {},
     "output_type": "execute_result"
    }
   ],
   "source": [
    "print(\"Text \\n\",X[:10],'\\n')\n",
    "\n",
    "X_seqs = tokenizer.texts_to_sequences(X)\n",
    "print(\"Sequences\")\n",
    "X_seqs[:10]"
   ]
  },
  {
   "cell_type": "code",
   "execution_count": 29,
   "id": "26aa2a4d-8589-435c-8181-b47b01e603fe",
   "metadata": {},
   "outputs": [
    {
     "name": "stdout",
     "output_type": "stream",
     "text": [
      "Word Mappings\n",
      "\n",
      "Index:  1 ----> it\n",
      "Index:  2 ----> the\n",
      "Index:  3 ----> to\n",
      "Index:  4 ----> a\n",
      "Index:  5 ----> i\n",
      "Index:  6 ----> you\n",
      "Index:  7 ----> http\n",
      "Index:  8 ----> me\n",
      "Index:  9 ----> fb\n"
     ]
    }
   ],
   "source": [
    "idx2words = tokenizer.index_word\n",
    "\n",
    "print(\"Word Mappings\\n\")\n",
    "for i in range(1,10):\n",
    "    print(\"Index: \",i, \"---->\",idx2words[i])"
   ]
  },
  {
   "cell_type": "code",
   "execution_count": 30,
   "id": "bc08717b-328a-4df2-bd1b-f1e3f0d98118",
   "metadata": {},
   "outputs": [
    {
     "name": "stdout",
     "output_type": "stream",
     "text": [
      "Vocabulary size : 2809\n"
     ]
    }
   ],
   "source": [
    "vocab_size = len(tokenizer.index_word)\n",
    "print(\"Vocabulary size :\",len(tokenizer.index_word))"
   ]
  },
  {
   "cell_type": "code",
   "execution_count": 31,
   "id": "eb97fa9b-e74f-4342-b34e-f8732bfaccea",
   "metadata": {},
   "outputs": [
    {
     "data": {
      "image/png": "[encoded data removed]",
      "text/plain": [
       "<Figure size 640x480 with 1 Axes>"
      ]
     },
     "metadata": {},
     "output_type": "display_data"
    }
   ],
   "source": [
    "lens = [len(seq) for seq in X_seqs]\n",
    "sns.countplot(x=lens)\n",
    "plt.show()"
   ]
  },
  {
   "cell_type": "code",
   "execution_count": 32,
   "id": "88119f55-a589-49c6-a1c1-461c4925d0a2",
   "metadata": {},
   "outputs": [],
   "source": [
    "from tensorflow.keras.preprocessing.sequence import pad_sequences\n",
    "\n",
    "max_len=40\n",
    "X_seqs_pd = pad_sequences(X_seqs, truncating=\"pre\", padding=\"pre\", maxlen=max_len)"
   ]
  },
  {
   "cell_type": "code",
   "execution_count": 33,
   "id": "2b856aad-a357-4c73-96da-6860af074f0e",
   "metadata": {},
   "outputs": [
    {
     "name": "stdout",
     "output_type": "stream",
     "text": [
      "Before Padding\n",
      "[[144, 4, 306, 118, 111, 93, 4, 1504, 21, 1505]]\n",
      "\n",
      "After Padding\n",
      "[[   0    0    0    0    0    0    0    0    0    0    0    0    0    0\n",
      "     0    0    0    0    0    0    0    0    0    0    0    0    0    0\n",
      "     0    0  144    4  306  118  111   93    4 1504   21 1505]]\n"
     ]
    }
   ],
   "source": [
    "print(\"Before Padding\")\n",
    "print(X_seqs[:1])\n",
    "\n",
    "print(\"\\nAfter Padding\")\n",
    "print(X_seqs_pd[:1])"
   ]
  },
  {
   "cell_type": "code",
   "execution_count": 34,
   "id": "649b0e9e-98a9-4dbf-a382-751b32181271",
   "metadata": {},
   "outputs": [
    {
     "data": {
      "image/png": "[encoded data removed]",
      "text/plain": [
       "<Figure size 640x480 with 1 Axes>"
      ]
     },
     "metadata": {},
     "output_type": "display_data"
    }
   ],
   "source": [
    "lens = [len(seq) for seq in X_seqs_pd]\n",
    "sns.countplot(x=lens)\n",
    "plt.show()"
   ]
  },
  {
   "cell_type": "code",
   "execution_count": 42,
   "id": "77a03fef-570b-43e3-bce1-3209a954e3f7",
   "metadata": {},
   "outputs": [
    {
     "data": {
      "text/plain": [
       "array([0, 0, 0, ..., 9, 9, 9])"
      ]
     },
     "execution_count": 42,
     "metadata": {},
     "output_type": "execute_result"
    }
   ],
   "source": [
    "y"
   ]
  },
  {
   "cell_type": "code",
   "execution_count": 82,
   "id": "11b20557-bb64-4452-972d-f859ef3d402e",
   "metadata": {},
   "outputs": [
    {
     "name": "stdout",
     "output_type": "stream",
     "text": [
      "Training X Dim  (2172, 40)\n",
      "Training y Dim  (2172, 20)\n",
      "Test X Dim  (932, 40)\n",
      "Test y Dim  (932, 20)\n"
     ]
    }
   ],
   "source": [
    "from sklearn.model_selection import train_test_split\n",
    "\n",
    "X_train, X_test ,y_train, y_test = train_test_split(X_seqs_pd, y, test_size=0.3, random_state=105)\n",
    "\n",
    "y_train_encoded = to_categorical(y_train, num_classes=20)\n",
    "y_test_encoded = to_categorical(y_test, num_classes=20)\n",
    "\n",
    "print(\"Training X Dim \",X_train.shape)\n",
    "print(\"Training y Dim \",y_train_encoded.shape)\n",
    "\n",
    "print(\"Test X Dim \",X_test.shape)\n",
    "print(\"Test y Dim \",y_test_encoded.shape)"
   ]
  },
  {
   "cell_type": "code",
   "execution_count": 84,
   "id": "bba82f6c-9557-44e2-b4b0-b2b36d5d48d8",
   "metadata": {},
   "outputs": [
    {
     "data": {
      "text/html": [
       "<pre style=\"white-space:pre;overflow-x:auto;line-height:normal;font-family:Menlo,'DejaVu Sans Mono',consolas,'Courier New',monospace\"><span style=\"font-weight: bold\">Model: \"sequential_8\"</span>\n",
       "</pre>\n"
      ],
      "text/plain": [
       "\u001b[1mModel: \"sequential_8\"\u001b[0m\n"
      ]
     },
     "metadata": {},
     "output_type": "display_data"
    },
    {
     "data": {
      "text/html": [
       "<pre style=\"white-space:pre;overflow-x:auto;line-height:normal;font-family:Menlo,'DejaVu Sans Mono',consolas,'Courier New',monospace\">┏━━━━━━━━━━━━━━━━━━━━━━━━━━━━━━━━━━━━━━┳━━━━━━━━━━━━━━━━━━━━━━━━━━━━━┳━━━━━━━━━━━━━━━━━┓\n",
       "┃<span style=\"font-weight: bold\"> Layer (type)                         </span>┃<span style=\"font-weight: bold\"> Output Shape                </span>┃<span style=\"font-weight: bold\">         Param # </span>┃\n",
       "┡━━━━━━━━━━━━━━━━━━━━━━━━━━━━━━━━━━━━━━╇━━━━━━━━━━━━━━━━━━━━━━━━━━━━━╇━━━━━━━━━━━━━━━━━┩\n",
       "│ embedding_8 (<span style=\"color: #0087ff; text-decoration-color: #0087ff\">Embedding</span>)              │ (<span style=\"color: #00d7ff; text-decoration-color: #00d7ff\">None</span>, <span style=\"color: #00af00; text-decoration-color: #00af00\">40</span>, <span style=\"color: #00af00; text-decoration-color: #00af00\">10</span>)              │          <span style=\"color: #00af00; text-decoration-color: #00af00\">28,100</span> │\n",
       "├──────────────────────────────────────┼─────────────────────────────┼─────────────────┤\n",
       "│ lstm_16 (<span style=\"color: #0087ff; text-decoration-color: #0087ff\">LSTM</span>)                       │ (<span style=\"color: #00d7ff; text-decoration-color: #00d7ff\">None</span>, <span style=\"color: #00af00; text-decoration-color: #00af00\">40</span>, <span style=\"color: #00af00; text-decoration-color: #00af00\">80</span>)              │          <span style=\"color: #00af00; text-decoration-color: #00af00\">29,120</span> │\n",
       "├──────────────────────────────────────┼─────────────────────────────┼─────────────────┤\n",
       "│ dropout_20 (<span style=\"color: #0087ff; text-decoration-color: #0087ff\">Dropout</span>)                 │ (<span style=\"color: #00d7ff; text-decoration-color: #00d7ff\">None</span>, <span style=\"color: #00af00; text-decoration-color: #00af00\">40</span>, <span style=\"color: #00af00; text-decoration-color: #00af00\">80</span>)              │               <span style=\"color: #00af00; text-decoration-color: #00af00\">0</span> │\n",
       "├──────────────────────────────────────┼─────────────────────────────┼─────────────────┤\n",
       "│ lstm_17 (<span style=\"color: #0087ff; text-decoration-color: #0087ff\">LSTM</span>)                       │ (<span style=\"color: #00d7ff; text-decoration-color: #00d7ff\">None</span>, <span style=\"color: #00af00; text-decoration-color: #00af00\">40</span>, <span style=\"color: #00af00; text-decoration-color: #00af00\">40</span>)              │          <span style=\"color: #00af00; text-decoration-color: #00af00\">19,360</span> │\n",
       "├──────────────────────────────────────┼─────────────────────────────┼─────────────────┤\n",
       "│ dropout_21 (<span style=\"color: #0087ff; text-decoration-color: #0087ff\">Dropout</span>)                 │ (<span style=\"color: #00d7ff; text-decoration-color: #00d7ff\">None</span>, <span style=\"color: #00af00; text-decoration-color: #00af00\">40</span>, <span style=\"color: #00af00; text-decoration-color: #00af00\">40</span>)              │               <span style=\"color: #00af00; text-decoration-color: #00af00\">0</span> │\n",
       "├──────────────────────────────────────┼─────────────────────────────┼─────────────────┤\n",
       "│ dense_12 (<span style=\"color: #0087ff; text-decoration-color: #0087ff\">Dense</span>)                     │ (<span style=\"color: #00d7ff; text-decoration-color: #00d7ff\">None</span>, <span style=\"color: #00af00; text-decoration-color: #00af00\">40</span>, <span style=\"color: #00af00; text-decoration-color: #00af00\">20</span>)              │             <span style=\"color: #00af00; text-decoration-color: #00af00\">820</span> │\n",
       "└──────────────────────────────────────┴─────────────────────────────┴─────────────────┘\n",
       "</pre>\n"
      ],
      "text/plain": [
       "┏━━━━━━━━━━━━━━━━━━━━━━━━━━━━━━━━━━━━━━┳━━━━━━━━━━━━━━━━━━━━━━━━━━━━━┳━━━━━━━━━━━━━━━━━┓\n",
       "┃\u001b[1m \u001b[0m\u001b[1mLayer (type)                        \u001b[0m\u001b[1m \u001b[0m┃\u001b[1m \u001b[0m\u001b[1mOutput Shape               \u001b[0m\u001b[1m \u001b[0m┃\u001b[1m \u001b[0m\u001b[1m        Param #\u001b[0m\u001b[1m \u001b[0m┃\n",
       "┡━━━━━━━━━━━━━━━━━━━━━━━━━━━━━━━━━━━━━━╇━━━━━━━━━━━━━━━━━━━━━━━━━━━━━╇━━━━━━━━━━━━━━━━━┩\n",
       "│ embedding_8 (\u001b[38;5;33mEmbedding\u001b[0m)              │ (\u001b[38;5;45mNone\u001b[0m, \u001b[38;5;34m40\u001b[0m, \u001b[38;5;34m10\u001b[0m)              │          \u001b[38;5;34m28,100\u001b[0m │\n",
       "├──────────────────────────────────────┼─────────────────────────────┼─────────────────┤\n",
       "│ lstm_16 (\u001b[38;5;33mLSTM\u001b[0m)                       │ (\u001b[38;5;45mNone\u001b[0m, \u001b[38;5;34m40\u001b[0m, \u001b[38;5;34m80\u001b[0m)              │          \u001b[38;5;34m29,120\u001b[0m │\n",
       "├──────────────────────────────────────┼─────────────────────────────┼─────────────────┤\n",
       "│ dropout_20 (\u001b[38;5;33mDropout\u001b[0m)                 │ (\u001b[38;5;45mNone\u001b[0m, \u001b[38;5;34m40\u001b[0m, \u001b[38;5;34m80\u001b[0m)              │               \u001b[38;5;34m0\u001b[0m │\n",
       "├──────────────────────────────────────┼─────────────────────────────┼─────────────────┤\n",
       "│ lstm_17 (\u001b[38;5;33mLSTM\u001b[0m)                       │ (\u001b[38;5;45mNone\u001b[0m, \u001b[38;5;34m40\u001b[0m, \u001b[38;5;34m40\u001b[0m)              │          \u001b[38;5;34m19,360\u001b[0m │\n",
       "├──────────────────────────────────────┼─────────────────────────────┼─────────────────┤\n",
       "│ dropout_21 (\u001b[38;5;33mDropout\u001b[0m)                 │ (\u001b[38;5;45mNone\u001b[0m, \u001b[38;5;34m40\u001b[0m, \u001b[38;5;34m40\u001b[0m)              │               \u001b[38;5;34m0\u001b[0m │\n",
       "├──────────────────────────────────────┼─────────────────────────────┼─────────────────┤\n",
       "│ dense_12 (\u001b[38;5;33mDense\u001b[0m)                     │ (\u001b[38;5;45mNone\u001b[0m, \u001b[38;5;34m40\u001b[0m, \u001b[38;5;34m20\u001b[0m)              │             \u001b[38;5;34m820\u001b[0m │\n",
       "└──────────────────────────────────────┴─────────────────────────────┴─────────────────┘\n"
      ]
     },
     "metadata": {},
     "output_type": "display_data"
    },
    {
     "data": {
      "text/html": [
       "<pre style=\"white-space:pre;overflow-x:auto;line-height:normal;font-family:Menlo,'DejaVu Sans Mono',consolas,'Courier New',monospace\"><span style=\"font-weight: bold\"> Total params: </span><span style=\"color: #00af00; text-decoration-color: #00af00\">77,400</span> (302.34 KB)\n",
       "</pre>\n"
      ],
      "text/plain": [
       "\u001b[1m Total params: \u001b[0m\u001b[38;5;34m77,400\u001b[0m (302.34 KB)\n"
      ]
     },
     "metadata": {},
     "output_type": "display_data"
    },
    {
     "data": {
      "text/html": [
       "<pre style=\"white-space:pre;overflow-x:auto;line-height:normal;font-family:Menlo,'DejaVu Sans Mono',consolas,'Courier New',monospace\"><span style=\"font-weight: bold\"> Trainable params: </span><span style=\"color: #00af00; text-decoration-color: #00af00\">77,400</span> (302.34 KB)\n",
       "</pre>\n"
      ],
      "text/plain": [
       "\u001b[1m Trainable params: \u001b[0m\u001b[38;5;34m77,400\u001b[0m (302.34 KB)\n"
      ]
     },
     "metadata": {},
     "output_type": "display_data"
    },
    {
     "data": {
      "text/html": [
       "<pre style=\"white-space:pre;overflow-x:auto;line-height:normal;font-family:Menlo,'DejaVu Sans Mono',consolas,'Courier New',monospace\"><span style=\"font-weight: bold\"> Non-trainable params: </span><span style=\"color: #00af00; text-decoration-color: #00af00\">0</span> (0.00 B)\n",
       "</pre>\n"
      ],
      "text/plain": [
       "\u001b[1m Non-trainable params: \u001b[0m\u001b[38;5;34m0\u001b[0m (0.00 B)\n"
      ]
     },
     "metadata": {},
     "output_type": "display_data"
    }
   ],
   "source": [
    "from tensorflow.keras.models import Sequential\n",
    "from tensorflow.keras.layers import Dropout, Dense, LSTM, Embedding\n",
    "\n",
    "vocabulary_size = vocab_size\n",
    "seq_len = 40\n",
    "embed_len = 10\n",
    "\n",
    "model = Sequential()\n",
    "model.add(Embedding(vocabulary_size + 1, embed_len, input_shape=(seq_len,)))\n",
    "model.add(LSTM(units=80, return_sequences=True))\n",
    "model.add(Dropout(0.5))\n",
    "model.add(Dense(units=40, activation='softmax'))\n",
    "model.summary()\n",
    "\n"
   ]
  },
  {
   "cell_type": "code",
   "execution_count": 98,
   "id": "401fed03-ac91-4474-8f3a-b1167f921b31",
   "metadata": {},
   "outputs": [],
   "source": [
    "from tensorflow.keras.callbacks import EarlyStopping\n",
    "\n",
    "early_stop = EarlyStopping(monitor=\"val_loss\", mode=\"min\", patience=1,verbose=1)\n",
    "\n",
    "model.compile(loss = 'categorical_crossentropy',\n",
    "             optimizer = \"adam\",\n",
    "             metrics=[\"accuracy\"])"
   ]
  },
  {
   "cell_type": "code",
   "execution_count": 99,
   "id": "5e40826b-a26d-4b1a-bf92-6d25dc68b6f1",
   "metadata": {},
   "outputs": [],
   "source": [
    "from tensorflow.keras.utils import to_categorical\n",
    "\n",
    "y_train_cat = to_categorical(y_train_encoded, num_classes=20)\n",
    "y_test_cat = to_categorical(y_test_encoded, num_classes=20)"
   ]
  },
  {
   "cell_type": "code",
   "execution_count": 100,
   "id": "1df3aca0-7089-4630-8344-121428254d77",
   "metadata": {},
   "outputs": [
    {
     "data": {
      "text/plain": [
       "array([[[1., 0., 0., ..., 0., 0., 0.],\n",
       "        [1., 0., 0., ..., 0., 0., 0.],\n",
       "        [1., 0., 0., ..., 0., 0., 0.],\n",
       "        ...,\n",
       "        [1., 0., 0., ..., 0., 0., 0.],\n",
       "        [1., 0., 0., ..., 0., 0., 0.],\n",
       "        [1., 0., 0., ..., 0., 0., 0.]],\n",
       "\n",
       "       [[1., 0., 0., ..., 0., 0., 0.],\n",
       "        [1., 0., 0., ..., 0., 0., 0.],\n",
       "        [1., 0., 0., ..., 0., 0., 0.],\n",
       "        ...,\n",
       "        [1., 0., 0., ..., 0., 0., 0.],\n",
       "        [1., 0., 0., ..., 0., 0., 0.],\n",
       "        [1., 0., 0., ..., 0., 0., 0.]],\n",
       "\n",
       "       [[1., 0., 0., ..., 0., 0., 0.],\n",
       "        [1., 0., 0., ..., 0., 0., 0.],\n",
       "        [0., 1., 0., ..., 0., 0., 0.],\n",
       "        ...,\n",
       "        [1., 0., 0., ..., 0., 0., 0.],\n",
       "        [1., 0., 0., ..., 0., 0., 0.],\n",
       "        [1., 0., 0., ..., 0., 0., 0.]],\n",
       "\n",
       "       ...,\n",
       "\n",
       "       [[1., 0., 0., ..., 0., 0., 0.],\n",
       "        [1., 0., 0., ..., 0., 0., 0.],\n",
       "        [1., 0., 0., ..., 0., 0., 0.],\n",
       "        ...,\n",
       "        [1., 0., 0., ..., 0., 0., 0.],\n",
       "        [1., 0., 0., ..., 0., 0., 0.],\n",
       "        [1., 0., 0., ..., 0., 0., 0.]],\n",
       "\n",
       "       [[0., 1., 0., ..., 0., 0., 0.],\n",
       "        [1., 0., 0., ..., 0., 0., 0.],\n",
       "        [1., 0., 0., ..., 0., 0., 0.],\n",
       "        ...,\n",
       "        [1., 0., 0., ..., 0., 0., 0.],\n",
       "        [1., 0., 0., ..., 0., 0., 0.],\n",
       "        [1., 0., 0., ..., 0., 0., 0.]],\n",
       "\n",
       "       [[1., 0., 0., ..., 0., 0., 0.],\n",
       "        [0., 1., 0., ..., 0., 0., 0.],\n",
       "        [1., 0., 0., ..., 0., 0., 0.],\n",
       "        ...,\n",
       "        [1., 0., 0., ..., 0., 0., 0.],\n",
       "        [1., 0., 0., ..., 0., 0., 0.],\n",
       "        [1., 0., 0., ..., 0., 0., 0.]]])"
      ]
     },
     "execution_count": 100,
     "metadata": {},
     "output_type": "execute_result"
    }
   ],
   "source": [
    "y_test_cat"
   ]
  },
  {
   "cell_type": "code",
   "execution_count": 101,
   "id": "d7a3a507-196e-4b67-84b3-17ea7d40cd8b",
   "metadata": {},
   "outputs": [
    {
     "name": "stdout",
     "output_type": "stream",
     "text": [
      "Training target shape: (2172, 1, 800, 20)\n",
      "Test target shape: (932, 1, 800, 20)\n"
     ]
    }
   ],
   "source": [
    "y_train_reshaped = np.tile(y_train_cat[:, np.newaxis, :], (1, seq_len, 1))\n",
    "y_test_reshaped = np.tile(y_test_cat[:, np.newaxis, :], (1, seq_len, 1))\n",
    "\n",
    "print(\"Training target shape:\", y_train_reshaped.shape)\n",
    "print(\"Test target shape:\", y_test_reshaped.shape)"
   ]
  },
  {
   "cell_type": "code",
   "execution_count": 102,
   "id": "370a5a14-c951-4f72-90c9-3471a816de35",
   "metadata": {},
   "outputs": [
    {
     "name": "stdout",
     "output_type": "stream",
     "text": [
      "Epoch 1/20\n"
     ]
    },
    {
     "ename": "ValueError",
     "evalue": "Arguments `target` and `output` must have the same shape. Received: target.shape=(None, 20, 20), output.shape=(None, 40, 20)",
     "output_type": "error",
     "traceback": [
      "\u001b[1;31m---------------------------------------------------------------------------\u001b[0m",
      "\u001b[1;31mValueError\u001b[0m                                Traceback (most recent call last)",
      "Cell \u001b[1;32mIn[102], line 4\u001b[0m\n\u001b[0;32m      1\u001b[0m batch_size\u001b[38;5;241m=\u001b[39m\u001b[38;5;241m128\u001b[39m\n\u001b[0;32m      2\u001b[0m epochs \u001b[38;5;241m=\u001b[39m \u001b[38;5;241m20\u001b[39m\n\u001b[1;32m----> 4\u001b[0m \u001b[43mmodel\u001b[49m\u001b[38;5;241;43m.\u001b[39;49m\u001b[43mfit\u001b[49m\u001b[43m(\u001b[49m\u001b[43mX_train\u001b[49m\u001b[43m,\u001b[49m\u001b[43m \u001b[49m\u001b[43my_train_cat\u001b[49m\u001b[43m,\u001b[49m\u001b[43m \u001b[49m\u001b[43mbatch_size\u001b[49m\u001b[38;5;241;43m=\u001b[39;49m\u001b[43mbatch_size\u001b[49m\u001b[43m,\u001b[49m\u001b[43m \u001b[49m\u001b[43mepochs\u001b[49m\u001b[43m \u001b[49m\u001b[38;5;241;43m=\u001b[39;49m\u001b[43m \u001b[49m\u001b[43mepochs\u001b[49m\u001b[43m,\u001b[49m\u001b[43m \u001b[49m\u001b[43mshuffle\u001b[49m\u001b[38;5;241;43m=\u001b[39;49m\u001b[38;5;28;43;01mTrue\u001b[39;49;00m\u001b[43m,\u001b[49m\n\u001b[0;32m      5\u001b[0m \u001b[43m          \u001b[49m\u001b[43mvalidation_data\u001b[49m\u001b[38;5;241;43m=\u001b[39;49m\u001b[43m(\u001b[49m\u001b[43mX_test\u001b[49m\u001b[43m,\u001b[49m\u001b[43m \u001b[49m\u001b[43my_test_cat\u001b[49m\u001b[43m)\u001b[49m\u001b[43m,\u001b[49m\u001b[43m \u001b[49m\u001b[43mcallbacks\u001b[49m\u001b[38;5;241;43m=\u001b[39;49m\u001b[43m[\u001b[49m\u001b[43mearly_stop\u001b[49m\u001b[43m]\u001b[49m\u001b[43m)\u001b[49m\n",
      "File \u001b[1;32mC:\\Python312\\Lib\\site-packages\\keras\\src\\utils\\traceback_utils.py:122\u001b[0m, in \u001b[0;36mfilter_traceback.<locals>.error_handler\u001b[1;34m(*args, **kwargs)\u001b[0m\n\u001b[0;32m    119\u001b[0m     filtered_tb \u001b[38;5;241m=\u001b[39m _process_traceback_frames(e\u001b[38;5;241m.\u001b[39m__traceback__)\n\u001b[0;32m    120\u001b[0m     \u001b[38;5;66;03m# To get the full stack trace, call:\u001b[39;00m\n\u001b[0;32m    121\u001b[0m     \u001b[38;5;66;03m# `keras.config.disable_traceback_filtering()`\u001b[39;00m\n\u001b[1;32m--> 122\u001b[0m     \u001b[38;5;28;01mraise\u001b[39;00m e\u001b[38;5;241m.\u001b[39mwith_traceback(filtered_tb) \u001b[38;5;28;01mfrom\u001b[39;00m \u001b[38;5;28;01mNone\u001b[39;00m\n\u001b[0;32m    123\u001b[0m \u001b[38;5;28;01mfinally\u001b[39;00m:\n\u001b[0;32m    124\u001b[0m     \u001b[38;5;28;01mdel\u001b[39;00m filtered_tb\n",
      "File \u001b[1;32mC:\\Python312\\Lib\\site-packages\\keras\\src\\backend\\tensorflow\\nn.py:579\u001b[0m, in \u001b[0;36mcategorical_crossentropy\u001b[1;34m(target, output, from_logits, axis)\u001b[0m\n\u001b[0;32m    577\u001b[0m \u001b[38;5;28;01mfor\u001b[39;00m e1, e2 \u001b[38;5;129;01min\u001b[39;00m \u001b[38;5;28mzip\u001b[39m(target\u001b[38;5;241m.\u001b[39mshape, output\u001b[38;5;241m.\u001b[39mshape):\n\u001b[0;32m    578\u001b[0m     \u001b[38;5;28;01mif\u001b[39;00m e1 \u001b[38;5;129;01mis\u001b[39;00m \u001b[38;5;129;01mnot\u001b[39;00m \u001b[38;5;28;01mNone\u001b[39;00m \u001b[38;5;129;01mand\u001b[39;00m e2 \u001b[38;5;129;01mis\u001b[39;00m \u001b[38;5;129;01mnot\u001b[39;00m \u001b[38;5;28;01mNone\u001b[39;00m \u001b[38;5;129;01mand\u001b[39;00m e1 \u001b[38;5;241m!=\u001b[39m e2:\n\u001b[1;32m--> 579\u001b[0m         \u001b[38;5;28;01mraise\u001b[39;00m \u001b[38;5;167;01mValueError\u001b[39;00m(\n\u001b[0;32m    580\u001b[0m             \u001b[38;5;124m\"\u001b[39m\u001b[38;5;124mArguments `target` and `output` must have the same shape. \u001b[39m\u001b[38;5;124m\"\u001b[39m\n\u001b[0;32m    581\u001b[0m             \u001b[38;5;124m\"\u001b[39m\u001b[38;5;124mReceived: \u001b[39m\u001b[38;5;124m\"\u001b[39m\n\u001b[0;32m    582\u001b[0m             \u001b[38;5;124mf\u001b[39m\u001b[38;5;124m\"\u001b[39m\u001b[38;5;124mtarget.shape=\u001b[39m\u001b[38;5;132;01m{\u001b[39;00mtarget\u001b[38;5;241m.\u001b[39mshape\u001b[38;5;132;01m}\u001b[39;00m\u001b[38;5;124m, output.shape=\u001b[39m\u001b[38;5;132;01m{\u001b[39;00moutput\u001b[38;5;241m.\u001b[39mshape\u001b[38;5;132;01m}\u001b[39;00m\u001b[38;5;124m\"\u001b[39m\n\u001b[0;32m    583\u001b[0m         )\n\u001b[0;32m    585\u001b[0m output, from_logits \u001b[38;5;241m=\u001b[39m _get_logits(\n\u001b[0;32m    586\u001b[0m     output, from_logits, \u001b[38;5;124m\"\u001b[39m\u001b[38;5;124mSoftmax\u001b[39m\u001b[38;5;124m\"\u001b[39m, \u001b[38;5;124m\"\u001b[39m\u001b[38;5;124mcategorical_crossentropy\u001b[39m\u001b[38;5;124m\"\u001b[39m\n\u001b[0;32m    587\u001b[0m )\n\u001b[0;32m    588\u001b[0m \u001b[38;5;28;01mif\u001b[39;00m from_logits:\n",
      "\u001b[1;31mValueError\u001b[0m: Arguments `target` and `output` must have the same shape. Received: target.shape=(None, 20, 20), output.shape=(None, 40, 20)"
     ]
    }
   ],
   "source": [
    "batch_size=128\n",
    "epochs = 20\n",
    "\n",
    "model.fit(X_train, y_train_cat, batch_size=batch_size, epochs = epochs, shuffle=True,\n",
    "          validation_data=(X_test, y_test_cat), callbacks=[early_stop])"
   ]
  },
  {
   "cell_type": "code",
   "execution_count": null,
   "id": "cc7accd7-23f0-4dd0-b448-d0afb80e451f",
   "metadata": {},
   "outputs": [],
   "source": []
  }
 ],
 "metadata": {
  "kernelspec": {
   "display_name": "Python 3 (ipykernel)",
   "language": "python",
   "name": "python3"
  },
  "language_info": {
   "codemirror_mode": {
    "name": "ipython",
    "version": 3
   },
   "file_extension": ".py",
   "mimetype": "text/x-python",
   "name": "python",
   "nbconvert_exporter": "python",
   "pygments_lexer": "ipython3",
   "version": "3.12.0"
  }
 },
 "nbformat": 4,
 "nbformat_minor": 5
}
